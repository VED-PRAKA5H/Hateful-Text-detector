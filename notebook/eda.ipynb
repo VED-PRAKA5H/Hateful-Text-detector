{
 "cells": [
  {
   "attachments": {},
   "cell_type": "markdown",
   "id": "1e233234",
   "metadata": {},
   "source": [
    "# Hate Text Detection \n",
    "### Dataset used - [Kaggle](https://www.kaggle.com/datasets/rajnikant2020/tweeter-hate-speech-sentiment-analysis)"
   ]
  },
  {
   "cell_type": "markdown",
   "id": "15b1355f",
   "metadata": {},
   "source": [
    "## 1 Import Data and Required Packages\n",
    "####  Importing Pandas, Numpy, Matplotlib, Seaborn and Warings Library."
   ]
  },
  {
   "cell_type": "code",
   "execution_count": 1,
   "id": "7eaae1d7",
   "metadata": {},
   "outputs": [],
   "source": [
    "import numpy as np\n",
    "import pandas as pd\n",
    "import seaborn as sns\n",
    "import matplotlib.pyplot as plt\n",
    "%matplotlib inline\n",
    "import warnings\n",
    "warnings.filterwarnings('ignore')"
   ]
  },
  {
   "cell_type": "markdown",
   "id": "3caeb0bb",
   "metadata": {},
   "source": [
    "#### Import the train CSV Data as Pandas DataFrame"
   ]
  },
  {
   "cell_type": "code",
   "execution_count": 2,
   "id": "57907087",
   "metadata": {},
   "outputs": [],
   "source": [
    "df = pd.read_csv('data/train.csv')"
   ]
  },
  {
   "cell_type": "markdown",
   "id": "92c8fd8a",
   "metadata": {},
   "source": [
    "#### Show Top 5 Records"
   ]
  },
  {
   "cell_type": "code",
   "execution_count": 3,
   "id": "7d1a2a0b",
   "metadata": {},
   "outputs": [
    {
     "data": {
      "text/html": [
       "<div>\n",
       "<style scoped>\n",
       "    .dataframe tbody tr th:only-of-type {\n",
       "        vertical-align: middle;\n",
       "    }\n",
       "\n",
       "    .dataframe tbody tr th {\n",
       "        vertical-align: top;\n",
       "    }\n",
       "\n",
       "    .dataframe thead th {\n",
       "        text-align: right;\n",
       "    }\n",
       "</style>\n",
       "<table border=\"1\" class=\"dataframe\">\n",
       "  <thead>\n",
       "    <tr style=\"text-align: right;\">\n",
       "      <th></th>\n",
       "      <th>id</th>\n",
       "      <th>label</th>\n",
       "      <th>tweet</th>\n",
       "    </tr>\n",
       "  </thead>\n",
       "  <tbody>\n",
       "    <tr>\n",
       "      <th>0</th>\n",
       "      <td>1</td>\n",
       "      <td>0</td>\n",
       "      <td>@user when a father is dysfunctional and is s...</td>\n",
       "    </tr>\n",
       "    <tr>\n",
       "      <th>1</th>\n",
       "      <td>2</td>\n",
       "      <td>0</td>\n",
       "      <td>@user @user thanks for #lyft credit i can't us...</td>\n",
       "    </tr>\n",
       "    <tr>\n",
       "      <th>2</th>\n",
       "      <td>3</td>\n",
       "      <td>0</td>\n",
       "      <td>bihday your majesty</td>\n",
       "    </tr>\n",
       "    <tr>\n",
       "      <th>3</th>\n",
       "      <td>4</td>\n",
       "      <td>0</td>\n",
       "      <td>#model   i love u take with u all the time in ...</td>\n",
       "    </tr>\n",
       "    <tr>\n",
       "      <th>4</th>\n",
       "      <td>5</td>\n",
       "      <td>0</td>\n",
       "      <td>factsguide: society now    #motivation</td>\n",
       "    </tr>\n",
       "  </tbody>\n",
       "</table>\n",
       "</div>"
      ],
      "text/plain": [
       "   id  label                                              tweet\n",
       "0   1      0   @user when a father is dysfunctional and is s...\n",
       "1   2      0  @user @user thanks for #lyft credit i can't us...\n",
       "2   3      0                                bihday your majesty\n",
       "3   4      0  #model   i love u take with u all the time in ...\n",
       "4   5      0             factsguide: society now    #motivation"
      ]
     },
     "execution_count": 3,
     "metadata": {},
     "output_type": "execute_result"
    }
   ],
   "source": [
    "df.head()"
   ]
  },
  {
   "cell_type": "markdown",
   "id": "56a49220",
   "metadata": {},
   "source": [
    "#### Shape of the dataset"
   ]
  },
  {
   "cell_type": "code",
   "execution_count": 4,
   "id": "417e5820",
   "metadata": {},
   "outputs": [
    {
     "data": {
      "text/plain": [
       "(31962, 3)"
      ]
     },
     "execution_count": 4,
     "metadata": {},
     "output_type": "execute_result"
    }
   ],
   "source": [
    "df.shape"
   ]
  },
  {
   "cell_type": "markdown",
   "id": "041aa39d",
   "metadata": {},
   "source": [
    "### 2 Dataset information\n",
    "- id : id of tweeter user \n",
    "- label : Hateful or not  -> (0, 1)\n",
    "- tweet : tweet of the user"
   ]
  },
  {
   "cell_type": "markdown",
   "id": "27c4b61b",
   "metadata": {},
   "source": [
    "### 3. Data Checks to perform\n",
    "- `id` column has no meaning so let's drop\n",
    "- Check Missing values\n",
    "- Check Duplicates\n",
    "- Check data type\n",
    "- Check the number of unique values of each column"
   ]
  },
  {
   "cell_type": "markdown",
   "id": "c31d4123",
   "metadata": {},
   "source": [
    "### 3.1 Drop id column"
   ]
  },
  {
   "cell_type": "code",
   "execution_count": 5,
   "id": "c23feb1b-c041-478e-993d-badf7e21bf1a",
   "metadata": {},
   "outputs": [],
   "source": [
    "df.drop('id', axis=1, inplace=True)"
   ]
  },
  {
   "cell_type": "markdown",
   "id": "62f99b1a-ed02-40b3-bb82-f9abb7d9132a",
   "metadata": {},
   "source": [
    "### 3.2 Check Missing values"
   ]
  },
  {
   "cell_type": "code",
   "execution_count": 6,
   "id": "707d6a7b",
   "metadata": {},
   "outputs": [
    {
     "data": {
      "text/plain": [
       "label    0\n",
       "tweet    0\n",
       "dtype: int64"
      ]
     },
     "execution_count": 6,
     "metadata": {},
     "output_type": "execute_result"
    }
   ],
   "source": [
    "df.isna().sum()"
   ]
  },
  {
   "cell_type": "markdown",
   "id": "ce8f7b83",
   "metadata": {},
   "source": [
    "#### There are no missing values in the data set"
   ]
  },
  {
   "cell_type": "markdown",
   "id": "5840ff7f",
   "metadata": {},
   "source": [
    "### 3.3 Check Duplicates"
   ]
  },
  {
   "cell_type": "code",
   "execution_count": 7,
   "id": "ae16686e",
   "metadata": {},
   "outputs": [
    {
     "data": {
      "text/plain": [
       "np.int64(2432)"
      ]
     },
     "execution_count": 7,
     "metadata": {},
     "output_type": "execute_result"
    }
   ],
   "source": [
    "df.duplicated().sum()"
   ]
  },
  {
   "cell_type": "markdown",
   "id": "47f73b03-906d-42d6-9785-6f9b5ba6eb74",
   "metadata": {},
   "source": [
    "#### There are duplicates  values in the data set, drop them."
   ]
  },
  {
   "cell_type": "code",
   "execution_count": 10,
   "id": "290f95d5-0185-4116-990e-4dac5535dd20",
   "metadata": {},
   "outputs": [],
   "source": [
    "df.drop_duplicates(inplace=True)"
   ]
  },
  {
   "cell_type": "code",
   "execution_count": 11,
   "id": "c8d7178a-5e35-459a-9d1c-46d2c7a7f183",
   "metadata": {},
   "outputs": [
    {
     "data": {
      "text/plain": [
       "np.int64(0)"
      ]
     },
     "execution_count": 11,
     "metadata": {},
     "output_type": "execute_result"
    }
   ],
   "source": [
    "df.duplicated().sum()"
   ]
  },
  {
   "cell_type": "markdown",
   "id": "e5d7ae8e",
   "metadata": {},
   "source": [
    "#### Now, there are no duplicates  values in the data set"
   ]
  },
  {
   "cell_type": "markdown",
   "id": "30dfacc8",
   "metadata": {},
   "source": [
    "### 3.4 Check data types"
   ]
  },
  {
   "cell_type": "code",
   "execution_count": 12,
   "id": "25f95bc8",
   "metadata": {},
   "outputs": [
    {
     "name": "stdout",
     "output_type": "stream",
     "text": [
      "<class 'pandas.core.frame.DataFrame'>\n",
      "Index: 29530 entries, 0 to 31961\n",
      "Data columns (total 2 columns):\n",
      " #   Column  Non-Null Count  Dtype \n",
      "---  ------  --------------  ----- \n",
      " 0   label   29530 non-null  int64 \n",
      " 1   tweet   29530 non-null  object\n",
      "dtypes: int64(1), object(1)\n",
      "memory usage: 692.1+ KB\n"
     ]
    }
   ],
   "source": [
    "# Check Null and Dtypes\n",
    "df.info()"
   ]
  },
  {
   "cell_type": "markdown",
   "id": "0dbbf5b4",
   "metadata": {},
   "source": [
    "### 3.5 Checking the number of unique values of each column"
   ]
  },
  {
   "cell_type": "code",
   "execution_count": 13,
   "id": "2c2b61b6",
   "metadata": {},
   "outputs": [
    {
     "data": {
      "text/plain": [
       "label        2\n",
       "tweet    29530\n",
       "dtype: int64"
      ]
     },
     "execution_count": 13,
     "metadata": {},
     "output_type": "execute_result"
    }
   ],
   "source": [
    "df.nunique()"
   ]
  },
  {
   "cell_type": "markdown",
   "id": "9dc41207",
   "metadata": {},
   "source": [
    "#### Insight\n",
    "- From above description of data, data is highly imbalanced."
   ]
  },
  {
   "cell_type": "markdown",
   "id": "408754d5-2bd6-459f-a09d-b32103e0c7b1",
   "metadata": {},
   "source": [
    "### 4. Exploring Data ( Visualization )"
   ]
  },
  {
   "cell_type": "markdown",
   "id": "a765d219-755f-44b1-87a2-cc33a1a511d7",
   "metadata": {},
   "source": [
    "#### 4.1 Visualize tweets distribution to make some conclusion useing countplot."
   ]
  },
  {
   "cell_type": "code",
   "execution_count": 14,
   "id": "b9081742",
   "metadata": {},
   "outputs": [
    {
     "data": {
      "image/png": "[encoded data removed]",
      "text/plain": [
       "<Figure size 640x480 with 1 Axes>"
      ]
     },
     "metadata": {},
     "output_type": "display_data"
    }
   ],
   "source": [
    "sns.countplot(x='label', data=df)\n",
    "plt.show()"
   ]
  },
  {
   "cell_type": "markdown",
   "id": "c6b69eea-6a89-4114-b226-efb490c2c1c9",
   "metadata": {},
   "source": [
    "here,\\\n",
    "0 ---> No Hate\\\n",
    "1 ---> Hate\\\n",
    "Data is imbalanced count(0) > 50% count(1)."
   ]
  },
  {
   "cell_type": "markdown",
   "id": "695776b1-258d-4744-afc3-6c1953b58da5",
   "metadata": {},
   "source": [
    "#### Since data imbalanced, so we merge the raw data to make it balanced."
   ]
  },
  {
   "cell_type": "code",
   "execution_count": 17,
   "id": "2dd97e26",
   "metadata": {},
   "outputs": [],
   "source": [
    "raw= pd.read_csv('data/raw.csv')"
   ]
  },
  {
   "cell_type": "code",
   "execution_count": 26,
   "id": "21db9cc6-fada-4f21-bfc6-f68500f7b986",
   "metadata": {},
   "outputs": [
    {
     "data": {
      "text/plain": [
       "(24783, 7)"
      ]
     },
     "execution_count": 26,
     "metadata": {},
     "output_type": "execute_result"
    }
   ],
   "source": [
    "raw.shape"
   ]
  },
  {
   "cell_type": "code",
   "execution_count": 18,
   "id": "ae2822d1",
   "metadata": {},
   "outputs": [
    {
     "data": {
      "text/html": [
       "<div>\n",
       "<style scoped>\n",
       "    .dataframe tbody tr th:only-of-type {\n",
       "        vertical-align: middle;\n",
       "    }\n",
       "\n",
       "    .dataframe tbody tr th {\n",
       "        vertical-align: top;\n",
       "    }\n",
       "\n",
       "    .dataframe thead th {\n",
       "        text-align: right;\n",
       "    }\n",
       "</style>\n",
       "<table border=\"1\" class=\"dataframe\">\n",
       "  <thead>\n",
       "    <tr style=\"text-align: right;\">\n",
       "      <th></th>\n",
       "      <th>Unnamed: 0</th>\n",
       "      <th>count</th>\n",
       "      <th>hate_speech</th>\n",
       "      <th>offensive_language</th>\n",
       "      <th>neither</th>\n",
       "      <th>class</th>\n",
       "      <th>tweet</th>\n",
       "    </tr>\n",
       "  </thead>\n",
       "  <tbody>\n",
       "    <tr>\n",
       "      <th>0</th>\n",
       "      <td>0</td>\n",
       "      <td>3</td>\n",
       "      <td>0</td>\n",
       "      <td>0</td>\n",
       "      <td>3</td>\n",
       "      <td>2</td>\n",
       "      <td>!!! RT @mayasolovely: As a woman you shouldn't...</td>\n",
       "    </tr>\n",
       "    <tr>\n",
       "      <th>1</th>\n",
       "      <td>1</td>\n",
       "      <td>3</td>\n",
       "      <td>0</td>\n",
       "      <td>3</td>\n",
       "      <td>0</td>\n",
       "      <td>1</td>\n",
       "      <td>!!!!! RT @mleew17: boy dats cold...tyga dwn ba...</td>\n",
       "    </tr>\n",
       "    <tr>\n",
       "      <th>2</th>\n",
       "      <td>2</td>\n",
       "      <td>3</td>\n",
       "      <td>0</td>\n",
       "      <td>3</td>\n",
       "      <td>0</td>\n",
       "      <td>1</td>\n",
       "      <td>!!!!!!! RT @UrKindOfBrand Dawg!!!! RT @80sbaby...</td>\n",
       "    </tr>\n",
       "    <tr>\n",
       "      <th>3</th>\n",
       "      <td>3</td>\n",
       "      <td>3</td>\n",
       "      <td>0</td>\n",
       "      <td>2</td>\n",
       "      <td>1</td>\n",
       "      <td>1</td>\n",
       "      <td>!!!!!!!!! RT @C_G_Anderson: @viva_based she lo...</td>\n",
       "    </tr>\n",
       "    <tr>\n",
       "      <th>4</th>\n",
       "      <td>4</td>\n",
       "      <td>6</td>\n",
       "      <td>0</td>\n",
       "      <td>6</td>\n",
       "      <td>0</td>\n",
       "      <td>1</td>\n",
       "      <td>!!!!!!!!!!!!! RT @ShenikaRoberts: The shit you...</td>\n",
       "    </tr>\n",
       "  </tbody>\n",
       "</table>\n",
       "</div>"
      ],
      "text/plain": [
       "   Unnamed: 0  count  hate_speech  offensive_language  neither  class  \\\n",
       "0           0      3            0                   0        3      2   \n",
       "1           1      3            0                   3        0      1   \n",
       "2           2      3            0                   3        0      1   \n",
       "3           3      3            0                   2        1      1   \n",
       "4           4      6            0                   6        0      1   \n",
       "\n",
       "                                               tweet  \n",
       "0  !!! RT @mayasolovely: As a woman you shouldn't...  \n",
       "1  !!!!! RT @mleew17: boy dats cold...tyga dwn ba...  \n",
       "2  !!!!!!! RT @UrKindOfBrand Dawg!!!! RT @80sbaby...  \n",
       "3  !!!!!!!!! RT @C_G_Anderson: @viva_based she lo...  \n",
       "4  !!!!!!!!!!!!! RT @ShenikaRoberts: The shit you...  "
      ]
     },
     "execution_count": 18,
     "metadata": {},
     "output_type": "execute_result"
    }
   ],
   "source": [
    "raw.head()"
   ]
  },
  {
   "cell_type": "markdown",
   "id": "a16101fb-23e8-4e94-9e10-916a90da4dc1",
   "metadata": {},
   "source": [
    "### Visualize the raw data"
   ]
  },
  {
   "cell_type": "code",
   "execution_count": 28,
   "id": "e9bb842d-8e70-4244-9634-824b02345b61",
   "metadata": {},
   "outputs": [
    {
     "data": {
      "image/png": "[encoded data removed]",
      "text/plain": [
       "<Figure size 640x480 with 1 Axes>"
      ]
     },
     "metadata": {},
     "output_type": "display_data"
    }
   ],
   "source": [
    "sns.countplot(x='class', data=raw)\n",
    "plt.show()"
   ]
  },
  {
   "cell_type": "markdown",
   "id": "fbd2900b-93f8-4b86-b5aa-c387f5ef7437",
   "metadata": {},
   "source": [
    "- class 0: Hate\n",
    "- class 1: Abusive\n",
    "- class 2: No Hate\n",
    "### Since Hate and Abusive are similar let's merge them."
   ]
  },
  {
   "cell_type": "code",
   "execution_count": 41,
   "id": "cec75226-0786-4139-9fdc-a984c753add2",
   "metadata": {},
   "outputs": [],
   "source": [
    "raw.loc[raw['class'] == 0, 'class'] = 1\n",
    "raw.loc[raw['class'] == 2, 'class'] = 0"
   ]
  },
  {
   "cell_type": "markdown",
   "id": "bd42eda6",
   "metadata": {},
   "source": [
    "### Adding columns for \"Total Score\" and \"Average\""
   ]
  },
  {
   "cell_type": "code",
   "execution_count": 42,
   "id": "3ffbfdf7",
   "metadata": {},
   "outputs": [
    {
     "data": {
      "image/png": "[encoded data removed]",
      "text/plain": [
       "<Figure size 640x480 with 1 Axes>"
      ]
     },
     "metadata": {},
     "output_type": "display_data"
    }
   ],
   "source": [
    "sns.countplot(x='class', data=raw)\n",
    "plt.show()"
   ]
  },
  {
   "cell_type": "markdown",
   "id": "7093e81d-4a75-4fcd-91de-3be60e79db84",
   "metadata": {},
   "source": [
    "Here,\n",
    "* 0: No Hate\n",
    "* 1: Hate"
   ]
  },
  {
   "cell_type": "markdown",
   "id": "e598bc93",
   "metadata": {},
   "source": [
    "#### Rename the column name"
   ]
  },
  {
   "cell_type": "code",
   "execution_count": 55,
   "id": "6f94efce-8718-4cfe-9b51-06659e77780c",
   "metadata": {},
   "outputs": [],
   "source": [
    "raw.rename(columns={'class': 'label'}, inplace=True)"
   ]
  },
  {
   "cell_type": "markdown",
   "id": "3ed252b4-22ed-4f1d-b96d-664eb50c1c1a",
   "metadata": {},
   "source": [
    "#### Lets drop all column except class and tweet to perfom merge of dataframes"
   ]
  },
  {
   "cell_type": "code",
   "execution_count": 56,
   "id": "5e880321-2bc9-4255-8552-79cae16daae1",
   "metadata": {},
   "outputs": [
    {
     "data": {
      "text/plain": [
       "Index(['label', 'tweet'], dtype='object')"
      ]
     },
     "execution_count": 56,
     "metadata": {},
     "output_type": "execute_result"
    }
   ],
   "source": [
    "raw.columns"
   ]
  },
  {
   "cell_type": "code",
   "execution_count": null,
   "id": "21e8f6b4-90ab-484e-b4f2-35ea848b01b1",
   "metadata": {},
   "outputs": [],
   "source": [
    "raw.drop(['Unnamed: 0', 'count', 'hate_speech', 'offensive_language', 'neither'],\n",
    "         axis=1, inplace=True)"
   ]
  },
  {
   "cell_type": "markdown",
   "id": "f4726058",
   "metadata": {},
   "source": [
    "#### concat the dataframes"
   ]
  },
  {
   "cell_type": "code",
   "execution_count": 58,
   "id": "607fdbc9-c36e-4328-87ea-6a6ed16df51a",
   "metadata": {},
   "outputs": [],
   "source": [
    "new_df = pd.concat([df, raw])"
   ]
  },
  {
   "cell_type": "code",
   "execution_count": 59,
   "id": "c2510266",
   "metadata": {},
   "outputs": [
    {
     "data": {
      "text/html": [
       "<div>\n",
       "<style scoped>\n",
       "    .dataframe tbody tr th:only-of-type {\n",
       "        vertical-align: middle;\n",
       "    }\n",
       "\n",
       "    .dataframe tbody tr th {\n",
       "        vertical-align: top;\n",
       "    }\n",
       "\n",
       "    .dataframe thead th {\n",
       "        text-align: right;\n",
       "    }\n",
       "</style>\n",
       "<table border=\"1\" class=\"dataframe\">\n",
       "  <thead>\n",
       "    <tr style=\"text-align: right;\">\n",
       "      <th></th>\n",
       "      <th>label</th>\n",
       "      <th>tweet</th>\n",
       "    </tr>\n",
       "  </thead>\n",
       "  <tbody>\n",
       "    <tr>\n",
       "      <th>0</th>\n",
       "      <td>0</td>\n",
       "      <td>@user when a father is dysfunctional and is s...</td>\n",
       "    </tr>\n",
       "    <tr>\n",
       "      <th>1</th>\n",
       "      <td>0</td>\n",
       "      <td>@user @user thanks for #lyft credit i can't us...</td>\n",
       "    </tr>\n",
       "    <tr>\n",
       "      <th>2</th>\n",
       "      <td>0</td>\n",
       "      <td>bihday your majesty</td>\n",
       "    </tr>\n",
       "    <tr>\n",
       "      <th>3</th>\n",
       "      <td>0</td>\n",
       "      <td>#model   i love u take with u all the time in ...</td>\n",
       "    </tr>\n",
       "    <tr>\n",
       "      <th>4</th>\n",
       "      <td>0</td>\n",
       "      <td>factsguide: society now    #motivation</td>\n",
       "    </tr>\n",
       "  </tbody>\n",
       "</table>\n",
       "</div>"
      ],
      "text/plain": [
       "   label                                              tweet\n",
       "0      0   @user when a father is dysfunctional and is s...\n",
       "1      0  @user @user thanks for #lyft credit i can't us...\n",
       "2      0                                bihday your majesty\n",
       "3      0  #model   i love u take with u all the time in ...\n",
       "4      0             factsguide: society now    #motivation"
      ]
     },
     "execution_count": 59,
     "metadata": {},
     "output_type": "execute_result"
    }
   ],
   "source": [
    "new_df.head()"
   ]
  },
  {
   "cell_type": "markdown",
   "id": "b0999f41-c54b-4411-b998-3b0ef55c6880",
   "metadata": {},
   "source": [
    "#### Lets finally visualize the dataframe"
   ]
  },
  {
   "cell_type": "code",
   "execution_count": 61,
   "id": "e7967c7a",
   "metadata": {},
   "outputs": [
    {
     "data": {
      "image/png": "[encoded data removed]",
      "text/plain": [
       "<Figure size 640x480 with 1 Axes>"
      ]
     },
     "metadata": {},
     "output_type": "display_data"
    }
   ],
   "source": [
    "sns.countplot(x='label', data=new_df)\n",
    "plt.show()"
   ]
  },
  {
   "cell_type": "markdown",
   "id": "3d200b76",
   "metadata": {},
   "source": [
    "#####  Insights\n",
    "- Our dataframe is balanced, since data is approx 1:8 ratio which is good for classification."
   ]
  },
  {
   "cell_type": "markdown",
   "id": "09cbf7b4-c348-4127-9677-f79a027ea8f6",
   "metadata": {},
   "source": [
    "#### Save the data for later use"
   ]
  },
  {
   "cell_type": "code",
   "execution_count": 62,
   "id": "df995ea8-e242-4ca0-9453-dff0ce62bfe1",
   "metadata": {},
   "outputs": [],
   "source": [
    "new_df.to_csv('data/processed.csv', index=False)"
   ]
  },
  {
   "cell_type": "markdown",
   "id": "fe9e0efe-67e4-49c3-9db9-9fe76c278550",
   "metadata": {},
   "source": [
    "## Data Preprocessing\n",
    "#### Import the libraries "
   ]
  },
  {
   "cell_type": "code",
   "execution_count": 7,
   "id": "0b6c697a",
   "metadata": {},
   "outputs": [
    {
     "name": "stderr",
     "output_type": "stream",
     "text": [
      "[nltk_data] Downloading package stopwords to\n",
      "[nltk_data]     C:\\Users\\vihas\\AppData\\Roaming\\nltk_data...\n",
      "[nltk_data]   Package stopwords is already up-to-date!\n"
     ]
    },
    {
     "data": {
      "text/plain": [
       "True"
      ]
     },
     "execution_count": 7,
     "metadata": {},
     "output_type": "execute_result"
    }
   ],
   "source": [
    "import re\n",
    "import nltk\n",
    "import string\n",
    "from nltk.corpus import stopwords\n",
    "nltk.download('stopwords')"
   ]
  },
  {
   "cell_type": "code",
   "execution_count": 8,
   "id": "f7a91c38-1f33-438a-bd5d-e7bc8a092318",
   "metadata": {},
   "outputs": [],
   "source": [
    "df = pd.read_csv('data/processed.csv')"
   ]
  },
  {
   "cell_type": "markdown",
   "id": "9e7fd489",
   "metadata": {},
   "source": [
    "####  Lets apply stemming and and stopword on the data"
   ]
  },
  {
   "cell_type": "code",
   "execution_count": 9,
   "id": "0b30cbd7",
   "metadata": {},
   "outputs": [],
   "source": [
    "stemmer = nltk.SnowballStemmer('english')\n",
    "stopword = set(stopwords.words('english'))"
   ]
  },
  {
   "cell_type": "markdown",
   "id": "a1f7eef3",
   "metadata": {},
   "source": [
    "#### Let's apply regex and do cleaning."
   ]
  },
  {
   "cell_type": "code",
   "execution_count": 11,
   "id": "14db115f",
   "metadata": {},
   "outputs": [],
   "source": [
    "def data_cleaning(words, stopwords=stopword, stemmer=stemmer):\n",
    "    words = str(words).lower()  # Convert to lowercase\n",
    "    \n",
    "    words = re.sub(r'\\[.*?\\]', '', words)  # Remove text in square brackets\n",
    "  \n",
    "    words = re.sub(r'https?://\\S+|www\\.\\S+', '', words)  # Remove URLs\n",
    "  \n",
    "    words = re.sub(r'<.*?>', '', words)  # Remove HTML tags\n",
    "  \n",
    "    words = re.sub(r'[%s]' % re.escape(string.punctuation), '', words)  # Remove punctuation\n",
    "\n",
    "    words = re.sub(r'\\n', '', words)  # Remove newlines\n",
    "    \n",
    "    words = re.sub(r'\\w*\\d\\w*', '', words)  # Remove words containing numbers\n",
    "\n",
    "    words = re.sub(r'[^\\x00-\\x7F]+', '', str(words))  # Remove non-ASCII characters\n",
    "    \n",
    "    words = [word for word in words.split() if word not in stopwords]  # Remove stopwords\n",
    "\n",
    "    words = [stemmer.stem(word) for word in words]  # Apply stemming\n",
    "\n",
    "    words = ' '.join(words)    # Join words back into a single string\n",
    "    \n",
    "    return words\n"
   ]
  },
  {
   "cell_type": "markdown",
   "id": "2e2d686a",
   "metadata": {},
   "source": [
    "#### Apply the cleaning "
   ]
  },
  {
   "cell_type": "code",
   "execution_count": 16,
   "id": "5a148fca-910c-4f14-96b7-794e82c68775",
   "metadata": {},
   "outputs": [],
   "source": [
    "df['tweet'] = df['tweet'].apply(data_cleaning)"
   ]
  },
  {
   "cell_type": "markdown",
   "id": "ab008237",
   "metadata": {},
   "source": [
    "#### save the cleaned data for later use"
   ]
  },
  {
   "cell_type": "code",
   "execution_count": 17,
   "id": "d2de488b-2755-4c5e-9a6c-259b5dae837d",
   "metadata": {},
   "outputs": [],
   "source": [
    "df.to_csv('data/cleaned.csv', index=False)"
   ]
  },
  {
   "cell_type": "code",
   "execution_count": null,
   "id": "9521e0bc-8c5b-4f49-990e-a76c63eb456e",
   "metadata": {},
   "outputs": [],
   "source": []
  }
 ],
 "metadata": {
  "kernelspec": {
   "name": "tfvenv"
  },
  "language_info": {
   "codemirror_mode": {
    "name": "ipython",
    "version": 3
   },
   "file_extension": ".py",
   "mimetype": "text/x-python",
   "name": "python",
   "nbconvert_exporter": "python",
   "pygments_lexer": "ipython3",
   "version": "3.12.1"
  },
  "vscode": {
   "interpreter": {
    "hash": "7f9dc718a552478e14f37d36e0ca2ac7de1ac15c04a40a415ea3abc3fe8a0a39"
   }
  }
 },
 "nbformat": 4,
 "nbformat_minor": 5
}
